{
  "nbformat": 4,
  "nbformat_minor": 0,
  "metadata": {
    "colab": {
      "provenance": []
    },
    "kernelspec": {
      "name": "python3",
      "display_name": "Python 3"
    },
    "language_info": {
      "name": "python"
    }
  },
  "cells": [
    {
      "cell_type": "markdown",
      "source": [
        "## Pre-Trained Model"
      ],
      "metadata": {
        "id": "A8alX5MSOJs4"
      }
    },
    {
      "cell_type": "markdown",
      "source": [
        "Menggunakan model yang sudah dilatih sebelumnya"
      ],
      "metadata": {
        "id": "3R583R5eOOzL"
      }
    },
    {
      "cell_type": "code",
      "execution_count": 1,
      "metadata": {
        "colab": {
          "base_uri": "https://localhost:8080/"
        },
        "id": "JZK2vwleLivM",
        "outputId": "a73fed32-93eb-40d3-c1b4-ca9edf082fc5"
      },
      "outputs": [
        {
          "output_type": "stream",
          "name": "stdout",
          "text": [
            "Downloading data from https://storage.googleapis.com/tensorflow/tf-keras-datasets/train-labels-idx1-ubyte.gz\n",
            "29515/29515 [==============================] - 0s 0us/step\n",
            "Downloading data from https://storage.googleapis.com/tensorflow/tf-keras-datasets/train-images-idx3-ubyte.gz\n",
            "26421880/26421880 [==============================] - 0s 0us/step\n",
            "Downloading data from https://storage.googleapis.com/tensorflow/tf-keras-datasets/t10k-labels-idx1-ubyte.gz\n",
            "5148/5148 [==============================] - 0s 0us/step\n",
            "Downloading data from https://storage.googleapis.com/tensorflow/tf-keras-datasets/t10k-images-idx3-ubyte.gz\n",
            "4422102/4422102 [==============================] - 0s 0us/step\n"
          ]
        }
      ],
      "source": [
        "import matplotlib.pyplot as plt\n",
        "from tensorflow.keras.datasets import fashion_mnist\n",
        "\n",
        "(train_images,train_labels),(test_images,test_labels) = fashion_mnist.load_data()"
      ]
    },
    {
      "cell_type": "code",
      "source": [
        "train_images = train_images.reshape((60000,28 * 28))\n",
        "train_images = train_images.astype(\"float32\") / 255\n",
        "\n",
        "test_images = test_images.reshape((10000,28 * 28))\n",
        "test_images = test_images.astype(\"float32\") / 255"
      ],
      "metadata": {
        "id": "c9tmllhpNOxn"
      },
      "execution_count": 2,
      "outputs": []
    },
    {
      "cell_type": "code",
      "source": [
        "from tensorflow.keras.models import load_model"
      ],
      "metadata": {
        "id": "RiPOHngPNabH"
      },
      "execution_count": 3,
      "outputs": []
    },
    {
      "cell_type": "code",
      "source": [
        "pretrained_model = load_model('model_srimeiy.h5')"
      ],
      "metadata": {
        "id": "Ot-0sGpJNiqI"
      },
      "execution_count": 4,
      "outputs": []
    },
    {
      "cell_type": "code",
      "source": [
        "import numpy as np"
      ],
      "metadata": {
        "id": "i4A7AKP3N8eu"
      },
      "execution_count": 5,
      "outputs": []
    },
    {
      "cell_type": "code",
      "source": [
        "prediksi = pretrained_model(test_images)\n",
        "prediksi = prediksi.numpy() # Supaya hasilnya array\n",
        "prediksi_label = np.argmax(prediksi,axis=1)\n",
        "prediksi_betul = prediksi_label == test_labels\n",
        "print(f\"akurasi hasil data test : {prediksi_betul.mean():.2f}\")"
      ],
      "metadata": {
        "colab": {
          "base_uri": "https://localhost:8080/"
        },
        "id": "djwJdZGcNx02",
        "outputId": "eca4b77f-21c8-4324-bcd5-fddb8bc44897"
      },
      "execution_count": 7,
      "outputs": [
        {
          "output_type": "stream",
          "name": "stdout",
          "text": [
            "akurasi hasil data test : 0.87\n"
          ]
        }
      ]
    },
    {
      "cell_type": "markdown",
      "source": [
        "## Underfitting"
      ],
      "metadata": {
        "id": "_7jZfbAUOgs4"
      }
    },
    {
      "cell_type": "markdown",
      "source": [
        "Definisi : Situasi dimana model tidak dapat menangkap pola yang cukup dalam proses training <br>\n",
        "\n",
        "Penyebabnya :\n",
        "1. Modelnya terlalu sederhana\n",
        "2. Data training terbatas\n",
        "3. Proses training tidak cukup\n",
        "4. Parameter training tidak sesuai\n"
      ],
      "metadata": {
        "id": "J9A5K1siPNTD"
      }
    },
    {
      "cell_type": "markdown",
      "source": [
        "Cara mengatasinya :\n",
        "1. Meningkatkan kompleksitas model\n",
        "2. Datanya lebih banyak dan representatif\n",
        "3. Menyesuaikan parameter (Layernya di perbanyak, di lihat loss functionnya)"
      ],
      "metadata": {
        "id": "HQIzG0XHQMQ1"
      }
    },
    {
      "cell_type": "code",
      "source": [
        "#Arsitektur Modelnya\n",
        "import tensorflow as tf\n",
        "import numpy as np\n",
        "\n",
        "model_saya = tf.keras.Sequential([ #modelnya bisa di ganti sesuai keinginan sendiri\n",
        "    tf.keras.layers.Dense(10, activation = 'relu'),\n",
        "])"
      ],
      "metadata": {
        "id": "90Q7tkO5OI7E"
      },
      "execution_count": 8,
      "outputs": []
    },
    {
      "cell_type": "code",
      "source": [
        "model_saya.compile(optimizer ='rmsprop', loss='sparse_categorical_crossentropy', metrics=['accuracy'])"
      ],
      "metadata": {
        "id": "HMp6KCotRWPo"
      },
      "execution_count": 9,
      "outputs": []
    },
    {
      "cell_type": "code",
      "source": [
        "model_saya.fit(train_images,train_labels, epochs= 2, batch_size=126)"
      ],
      "metadata": {
        "colab": {
          "base_uri": "https://localhost:8080/"
        },
        "id": "ins8Co1gRbhx",
        "outputId": "ebaaabfb-9f55-446a-dc94-6ff4cb5853f5"
      },
      "execution_count": 10,
      "outputs": [
        {
          "output_type": "stream",
          "name": "stdout",
          "text": [
            "Epoch 1/2\n",
            "477/477 [==============================] - 2s 4ms/step - loss: 2.4057 - accuracy: 0.1161\n",
            "Epoch 2/2\n",
            "477/477 [==============================] - 1s 3ms/step - loss: 2.2831 - accuracy: 0.1088\n"
          ]
        },
        {
          "output_type": "execute_result",
          "data": {
            "text/plain": [
              "<keras.src.callbacks.History at 0x7a34abffcdc0>"
            ]
          },
          "metadata": {},
          "execution_count": 10
        }
      ]
    },
    {
      "cell_type": "markdown",
      "source": [
        "Catatan :\n",
        "Jika layersnya hanya sedikit, akurasinya rendah maka dapat dikatakan underfitting"
      ],
      "metadata": {
        "id": "MBNf0oCnRomU"
      }
    },
    {
      "cell_type": "markdown",
      "source": [
        "## Learning Rate"
      ],
      "metadata": {
        "id": "xHlOOQyXSUhx"
      }
    },
    {
      "cell_type": "markdown",
      "source": [
        "Learning Rate Merupakan parameter terpenting dalam proses training. Learning Rate merupakan Nilai yang menentukan seberapa besar penyesuaian yang dilakukan pada bobot (weight) model pada setiap proses training"
      ],
      "metadata": {
        "id": "s8ldNldkSbfh"
      }
    },
    {
      "cell_type": "markdown",
      "source": [
        "Learning rate mengontrol seberapa cepat atau lambat model untuk belajar.<br>\n",
        "Jika nilai learning rate tinggi, dapat menyebabkan model cepat belajar, tapi beresiko melewatkan kesalahan.<br>\n",
        "Jika learning ratenya rendah, maka modelnya akan belajar lebih hati-hati, tetapi proses pembelajaran menjadi lebih lambat."
      ],
      "metadata": {
        "id": "ULCmkdbXS4zx"
      }
    },
    {
      "cell_type": "code",
      "source": [
        "#Arsitektur Modelnya\n",
        "import tensorflow as tf\n",
        "import numpy as np\n",
        "\n",
        "model_saya = tf.keras.Sequential([ #modelnya bisa di ganti sesuai keinginan sendiri\n",
        "    tf.keras.layers.Dense(512, activation = 'relu'),\n",
        "    tf.keras.layers.Dropout(0.5),\n",
        "    tf.keras.layers.Dense(256, activation = 'relu'),\n",
        "    tf.keras.layers.Dropout(0.5),\n",
        "    tf.keras.layers.Dense(128, activation = 'relu'),\n",
        "    tf.keras.layers.Dense(64, activation = 'relu'),\n",
        "    tf.keras.layers.Dense(32, activation = 'relu'),\n",
        "    tf.keras.layers.Dense(10,activation = 'sigmoid')\n",
        "])"
      ],
      "metadata": {
        "id": "MWkPDlIwSOOs"
      },
      "execution_count": 11,
      "outputs": []
    },
    {
      "cell_type": "code",
      "source": [
        "learning_rate1 = 0.001"
      ],
      "metadata": {
        "id": "SAvkhVNcUKCT"
      },
      "execution_count": 12,
      "outputs": []
    },
    {
      "cell_type": "code",
      "source": [
        "model_saya.compile(optimizer =tf.keras.optimizers.RMSprop(learning_rate = learning_rate1), loss='sparse_categorical_crossentropy', metrics=['accuracy'])"
      ],
      "metadata": {
        "id": "-2TgZzbPUGja"
      },
      "execution_count": 18,
      "outputs": []
    },
    {
      "cell_type": "code",
      "source": [
        "model_saya.fit(train_images,train_labels, epochs= 10, batch_size=128)"
      ],
      "metadata": {
        "colab": {
          "base_uri": "https://localhost:8080/"
        },
        "id": "OzpvCpdCVlpD",
        "outputId": "dccb391b-626f-4a18-bea7-4ad9e3d5b344"
      },
      "execution_count": 19,
      "outputs": [
        {
          "output_type": "stream",
          "name": "stdout",
          "text": [
            "Epoch 1/10\n",
            "469/469 [==============================] - 10s 18ms/step - loss: 0.7326 - accuracy: 0.7268\n",
            "Epoch 2/10\n",
            "469/469 [==============================] - 9s 20ms/step - loss: 0.4972 - accuracy: 0.8209\n",
            "Epoch 3/10\n",
            "469/469 [==============================] - 8s 17ms/step - loss: 0.4526 - accuracy: 0.8374\n",
            "Epoch 4/10\n",
            "469/469 [==============================] - 9s 20ms/step - loss: 0.4257 - accuracy: 0.8482\n",
            "Epoch 5/10\n",
            "469/469 [==============================] - 9s 18ms/step - loss: 0.4077 - accuracy: 0.8545\n",
            "Epoch 6/10\n",
            "469/469 [==============================] - 8s 18ms/step - loss: 0.3958 - accuracy: 0.8589\n",
            "Epoch 7/10\n",
            "469/469 [==============================] - 9s 20ms/step - loss: 0.3830 - accuracy: 0.8634\n",
            "Epoch 8/10\n",
            "469/469 [==============================] - 7s 16ms/step - loss: 0.3765 - accuracy: 0.8650\n",
            "Epoch 9/10\n",
            "469/469 [==============================] - 9s 18ms/step - loss: 0.3671 - accuracy: 0.8690\n",
            "Epoch 10/10\n",
            "469/469 [==============================] - 9s 18ms/step - loss: 0.3642 - accuracy: 0.8714\n"
          ]
        },
        {
          "output_type": "execute_result",
          "data": {
            "text/plain": [
              "<keras.src.callbacks.History at 0x7a34b812d720>"
            ]
          },
          "metadata": {},
          "execution_count": 19
        }
      ]
    }
  ]
}